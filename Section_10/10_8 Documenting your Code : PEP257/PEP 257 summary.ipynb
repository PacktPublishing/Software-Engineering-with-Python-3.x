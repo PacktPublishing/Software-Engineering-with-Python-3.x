{
 "cells": [
  {
   "cell_type": "markdown",
   "metadata": {},
   "source": [
    "# PEP 257 - Docstring Conventions  \n",
    "**Reference** : https://www.python.org/dev/peps/pep-0257/  \n",
    "\n",
    "**Note**: This notebook is meant to be a summary of PEP 257. I would suggest reading the link above for more details."
   ]
  },
  {
   "cell_type": "markdown",
   "metadata": {},
   "source": [
    "## Single Line Docstrings"
   ]
  },
  {
   "cell_type": "code",
   "execution_count": 1,
   "metadata": {},
   "outputs": [],
   "source": [
    "def some_func(*args):\n",
    "    \"\"\"This function returns sum of args.\"\"\"\n",
    "    return sum(args)"
   ]
  },
  {
   "cell_type": "code",
   "execution_count": 2,
   "metadata": {},
   "outputs": [
    {
     "data": {
      "text/plain": [
       "['__annotations__',\n",
       " '__call__',\n",
       " '__class__',\n",
       " '__closure__',\n",
       " '__code__',\n",
       " '__defaults__',\n",
       " '__delattr__',\n",
       " '__dict__',\n",
       " '__dir__',\n",
       " '__doc__',\n",
       " '__eq__',\n",
       " '__format__',\n",
       " '__ge__',\n",
       " '__get__',\n",
       " '__getattribute__',\n",
       " '__globals__',\n",
       " '__gt__',\n",
       " '__hash__',\n",
       " '__init__',\n",
       " '__init_subclass__',\n",
       " '__kwdefaults__',\n",
       " '__le__',\n",
       " '__lt__',\n",
       " '__module__',\n",
       " '__name__',\n",
       " '__ne__',\n",
       " '__new__',\n",
       " '__qualname__',\n",
       " '__reduce__',\n",
       " '__reduce_ex__',\n",
       " '__repr__',\n",
       " '__setattr__',\n",
       " '__sizeof__',\n",
       " '__str__',\n",
       " '__subclasshook__']"
      ]
     },
     "execution_count": 2,
     "metadata": {},
     "output_type": "execute_result"
    }
   ],
   "source": [
    "dir(some_func)"
   ]
  },
  {
   "cell_type": "code",
   "execution_count": 3,
   "metadata": {},
   "outputs": [
    {
     "data": {
      "text/plain": [
       "'This function returns sum of args.'"
      ]
     },
     "execution_count": 3,
     "metadata": {},
     "output_type": "execute_result"
    }
   ],
   "source": [
    "some_func.__doc__"
   ]
  },
  {
   "cell_type": "markdown",
   "metadata": {},
   "source": [
    "1. No blank line before or after docstrings.  \n",
    "2. Docstring should not be signature.  \n",
    "3. Docstring should define the function or method's outcome as a command."
   ]
  },
  {
   "cell_type": "markdown",
   "metadata": {},
   "source": [
    "### For example, avoid this"
   ]
  },
  {
   "cell_type": "code",
   "execution_count": null,
   "metadata": {},
   "outputs": [],
   "source": [
    "def does_something(*args):\n",
    "    \n",
    "    \"\"\"This function does something with args\"\"\"\n",
    "    \n",
    "    return sum(args)"
   ]
  },
  {
   "cell_type": "markdown",
   "metadata": {},
   "source": [
    "## Multi-line Docstrings"
   ]
  },
  {
   "cell_type": "markdown",
   "metadata": {},
   "source": [
    "1. Consists of a one-line summary followed by a detailed description.  \n",
    "2. The one-line summary should be seperated from the description by a blank line.  \n",
    "3. For a script, the docstring should contain information for it's usage. Essentially, it should contain sufficient information for a new user to operate it properly with correct arguments.  \n",
    "4. For a function, the following should be documented:  \n",
    "   a. arguments and their type  \n",
    "   b. return type(s)  \n",
    "   c. expected behaviour  \n",
    "   d. possible side effects    \n",
    "5. For a class, the following should be documented:  \n",
    "   a. it's methods  \n",
    "   b. it's instance variables  \n",
    "   c. it's constructor  \n",
    "   d. for a subclass, the difference b/w parent and child class  \n",
    "   e. for a subclass, the overridden methods\n",
    "     \n",
    "     \n",
    "**More Info:** https://www.python.org/dev/peps/pep-0257/#multi-line-docstrings"
   ]
  },
  {
   "cell_type": "code",
   "execution_count": 4,
   "metadata": {},
   "outputs": [],
   "source": [
    "def some_complicated_func(list_args, some_var=10):\n",
    "    \"\"\"Returns sum of list_args minus some_var.\n",
    "    \n",
    "    \n",
    "    Arguments:\n",
    "    list_args -- list of ints\n",
    "    \n",
    "    Keyword arguments:\n",
    "    some_var -- integer (default 10)\n",
    "    \n",
    "    If list_args is not of List type, returns None\n",
    "    \"\"\"\n",
    "    if not isinstance(list_args, list):\n",
    "        return None\n",
    "    else:\n",
    "        return sum(list_args) - some_var"
   ]
  },
  {
   "cell_type": "code",
   "execution_count": null,
   "metadata": {},
   "outputs": [],
   "source": []
  }
 ],
 "metadata": {
  "kernelspec": {
   "display_name": "Python 3",
   "language": "python",
   "name": "python3"
  },
  "language_info": {
   "codemirror_mode": {
    "name": "ipython",
    "version": 3
   },
   "file_extension": ".py",
   "mimetype": "text/x-python",
   "name": "python",
   "nbconvert_exporter": "python",
   "pygments_lexer": "ipython3",
   "version": "3.7.1"
  }
 },
 "nbformat": 4,
 "nbformat_minor": 2
}
